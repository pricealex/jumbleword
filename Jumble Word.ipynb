{
 "cells": [
  {
   "cell_type": "markdown",
   "metadata": {},
   "source": [
    "# Jumble Words"
   ]
  },
  {
   "cell_type": "markdown",
   "metadata": {},
   "source": [
    "The Jumble Word dataset is sourced from the Official Scrabble Player's Dictionary (OSPD)."
   ]
  },
  {
   "cell_type": "code",
   "execution_count": 1,
   "metadata": {},
   "outputs": [
    {
     "name": "stdout",
     "output_type": "stream",
     "text": [
      "Table 1. Sample of nine letter words sourced from the dataset.\n"
     ]
    },
    {
     "data": {
      "text/html": [
       "<div>\n",
       "<style scoped>\n",
       "    .dataframe tbody tr th:only-of-type {\n",
       "        vertical-align: middle;\n",
       "    }\n",
       "\n",
       "    .dataframe tbody tr th {\n",
       "        vertical-align: top;\n",
       "    }\n",
       "\n",
       "    .dataframe thead th {\n",
       "        text-align: right;\n",
       "    }\n",
       "</style>\n",
       "<table border=\"1\" class=\"dataframe\">\n",
       "  <thead>\n",
       "    <tr style=\"text-align: right;\">\n",
       "      <th></th>\n",
       "      <th>Word</th>\n",
       "      <th>Length</th>\n",
       "      <th>1</th>\n",
       "      <th>2</th>\n",
       "      <th>3</th>\n",
       "      <th>4</th>\n",
       "      <th>5</th>\n",
       "      <th>6</th>\n",
       "      <th>7</th>\n",
       "      <th>8</th>\n",
       "      <th>9</th>\n",
       "    </tr>\n",
       "  </thead>\n",
       "  <tbody>\n",
       "    <tr>\n",
       "      <th>63706</th>\n",
       "      <td>grampuses</td>\n",
       "      <td>9.0</td>\n",
       "      <td>g</td>\n",
       "      <td>r</td>\n",
       "      <td>a</td>\n",
       "      <td>m</td>\n",
       "      <td>p</td>\n",
       "      <td>u</td>\n",
       "      <td>s</td>\n",
       "      <td>e</td>\n",
       "      <td>s</td>\n",
       "    </tr>\n",
       "    <tr>\n",
       "      <th>102994</th>\n",
       "      <td>oribatids</td>\n",
       "      <td>9.0</td>\n",
       "      <td>o</td>\n",
       "      <td>r</td>\n",
       "      <td>i</td>\n",
       "      <td>b</td>\n",
       "      <td>a</td>\n",
       "      <td>t</td>\n",
       "      <td>i</td>\n",
       "      <td>d</td>\n",
       "      <td>s</td>\n",
       "    </tr>\n",
       "    <tr>\n",
       "      <th>7394</th>\n",
       "      <td>appressed</td>\n",
       "      <td>9.0</td>\n",
       "      <td>a</td>\n",
       "      <td>p</td>\n",
       "      <td>p</td>\n",
       "      <td>r</td>\n",
       "      <td>e</td>\n",
       "      <td>s</td>\n",
       "      <td>s</td>\n",
       "      <td>e</td>\n",
       "      <td>d</td>\n",
       "    </tr>\n",
       "    <tr>\n",
       "      <th>99220</th>\n",
       "      <td>nondriver</td>\n",
       "      <td>9.0</td>\n",
       "      <td>n</td>\n",
       "      <td>o</td>\n",
       "      <td>n</td>\n",
       "      <td>d</td>\n",
       "      <td>r</td>\n",
       "      <td>i</td>\n",
       "      <td>v</td>\n",
       "      <td>e</td>\n",
       "      <td>r</td>\n",
       "    </tr>\n",
       "    <tr>\n",
       "      <th>63900</th>\n",
       "      <td>graphitic</td>\n",
       "      <td>9.0</td>\n",
       "      <td>g</td>\n",
       "      <td>r</td>\n",
       "      <td>a</td>\n",
       "      <td>p</td>\n",
       "      <td>h</td>\n",
       "      <td>i</td>\n",
       "      <td>t</td>\n",
       "      <td>i</td>\n",
       "      <td>c</td>\n",
       "    </tr>\n",
       "  </tbody>\n",
       "</table>\n",
       "</div>"
      ],
      "text/plain": [
       "             Word  Length  1  2  3  4  5  6  7  8  9\n",
       "63706   grampuses     9.0  g  r  a  m  p  u  s  e  s\n",
       "102994  oribatids     9.0  o  r  i  b  a  t  i  d  s\n",
       "7394    appressed     9.0  a  p  p  r  e  s  s  e  d\n",
       "99220   nondriver     9.0  n  o  n  d  r  i  v  e  r\n",
       "63900   graphitic     9.0  g  r  a  p  h  i  t  i  c"
      ]
     },
     "execution_count": 1,
     "metadata": {},
     "output_type": "execute_result"
    }
   ],
   "source": [
    "import pandas as pd\n",
    "\n",
    "d= pd.read_csv('ospd.txt', header = None, names = [\"Word\",\"Length\"])\n",
    "d['Length'] = pd.to_numeric(d['Word'].str.len(), downcast='integer')\n",
    "d = d[d['Length']==9]\n",
    "\n",
    "i = 1\n",
    "while i < 10:\n",
    "    d[i] = d['Word'].str.slice(i-1,i)\n",
    "    i+=1\n",
    "\n",
    "print(\"Table 1. Sample of nine letter words sourced from the dataset.\")\n",
    "d.sample(n=5)"
   ]
  },
  {
   "cell_type": "markdown",
   "metadata": {},
   "source": [
    "## Summary Statistics"
   ]
  },
  {
   "cell_type": "code",
   "execution_count": 8,
   "metadata": {},
   "outputs": [
    {
     "name": "stdout",
     "output_type": "stream",
     "text": [
      "There are 24873 words nine letter words included in the dataset\n"
     ]
    }
   ],
   "source": [
    "word_count = d['Word'].count()\n",
    "print(\"There are {} words nine letter words included in the dataset.\".format(word_count))"
   ]
  },
  {
   "cell_type": "code",
   "execution_count": 26,
   "metadata": {},
   "outputs": [
    {
     "data": {
      "text/plain": [
       "False    0.820528\n",
       "True     0.179472\n",
       "Name: Word, dtype: float64"
      ]
     },
     "execution_count": 26,
     "metadata": {},
     "output_type": "execute_result"
    }
   ],
   "source": [
    "word_find_a = d['Word'].str.find('er') > 0\n",
    "word_find_a.value_counts('False')"
   ]
  },
  {
   "cell_type": "code",
   "execution_count": null,
   "metadata": {},
   "outputs": [],
   "source": [
    "d['word'].find"
   ]
  }
 ],
 "metadata": {
  "kernelspec": {
   "display_name": "Python 3",
   "language": "python",
   "name": "python3"
  },
  "language_info": {
   "codemirror_mode": {
    "name": "ipython",
    "version": 3
   },
   "file_extension": ".py",
   "mimetype": "text/x-python",
   "name": "python",
   "nbconvert_exporter": "python",
   "pygments_lexer": "ipython3",
   "version": "3.7.0"
  }
 },
 "nbformat": 4,
 "nbformat_minor": 2
}
