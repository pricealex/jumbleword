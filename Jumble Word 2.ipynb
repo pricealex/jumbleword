{
 "cells": [
  {
   "cell_type": "markdown",
   "metadata": {},
   "source": [
    "# Generating the Word List"
   ]
  },
  {
   "cell_type": "code",
   "execution_count": 1,
   "metadata": {},
   "outputs": [],
   "source": [
    "import pandas as pd\n",
    "import numpy as np"
   ]
  },
  {
   "cell_type": "code",
   "execution_count": 2,
   "metadata": {},
   "outputs": [],
   "source": [
    "ospd = pd.read_csv('ospd.txt')\n",
    "ospd = ospd[(ospd['Word'].str.len() == 9)].reset_index().drop('index',axis=1)"
   ]
  },
  {
   "cell_type": "code",
   "execution_count": 3,
   "metadata": {},
   "outputs": [
    {
     "data": {
      "text/html": [
       "<div>\n",
       "<style scoped>\n",
       "    .dataframe tbody tr th:only-of-type {\n",
       "        vertical-align: middle;\n",
       "    }\n",
       "\n",
       "    .dataframe tbody tr th {\n",
       "        vertical-align: top;\n",
       "    }\n",
       "\n",
       "    .dataframe thead th {\n",
       "        text-align: right;\n",
       "    }\n",
       "</style>\n",
       "<table border=\"1\" class=\"dataframe\">\n",
       "  <thead>\n",
       "    <tr style=\"text-align: right;\">\n",
       "      <th></th>\n",
       "      <th>Word</th>\n",
       "    </tr>\n",
       "  </thead>\n",
       "  <tbody>\n",
       "    <tr>\n",
       "      <th>0</th>\n",
       "      <td>aardvarks</td>\n",
       "    </tr>\n",
       "    <tr>\n",
       "      <th>1</th>\n",
       "      <td>aasvogels</td>\n",
       "    </tr>\n",
       "    <tr>\n",
       "      <th>2</th>\n",
       "      <td>abamperes</td>\n",
       "    </tr>\n",
       "    <tr>\n",
       "      <th>3</th>\n",
       "      <td>abandoned</td>\n",
       "    </tr>\n",
       "    <tr>\n",
       "      <th>4</th>\n",
       "      <td>abandoner</td>\n",
       "    </tr>\n",
       "  </tbody>\n",
       "</table>\n",
       "</div>"
      ],
      "text/plain": [
       "        Word\n",
       "0  aardvarks\n",
       "1  aasvogels\n",
       "2  abamperes\n",
       "3  abandoned\n",
       "4  abandoner"
      ]
     },
     "execution_count": 3,
     "metadata": {},
     "output_type": "execute_result"
    }
   ],
   "source": [
    "ospd.head()"
   ]
  },
  {
   "cell_type": "code",
   "execution_count": 4,
   "metadata": {},
   "outputs": [],
   "source": [
    "import inflect\n",
    "p = inflect.engine()\n",
    "word_list = list(filter(lambda item: p.singular_noun(item) == False,ospd['Word']))"
   ]
  },
  {
   "cell_type": "markdown",
   "metadata": {},
   "source": [
    "# Summary Statistics"
   ]
  },
  {
   "cell_type": "code",
   "execution_count": 5,
   "metadata": {},
   "outputs": [
    {
     "data": {
      "text/plain": [
       "14507"
      ]
     },
     "execution_count": 5,
     "metadata": {},
     "output_type": "execute_result"
    }
   ],
   "source": [
    "len(word_list)"
   ]
  },
  {
   "cell_type": "markdown",
   "metadata": {},
   "source": [
    "# Daily Jumble Word"
   ]
  },
  {
   "cell_type": "code",
   "execution_count": 6,
   "metadata": {},
   "outputs": [
    {
     "name": "stdout",
     "output_type": "stream",
     "text": [
      "Today's date is 2019-06-04.\n"
     ]
    }
   ],
   "source": [
    "from datetime import date\n",
    "\n",
    "today = date.today()\n",
    "\n",
    "print(\"Today's date is {}.\".format(today.isoformat()))"
   ]
  },
  {
   "cell_type": "code",
   "execution_count": 7,
   "metadata": {},
   "outputs": [
    {
     "data": {
      "text/plain": [
       "4"
      ]
     },
     "execution_count": 7,
     "metadata": {},
     "output_type": "execute_result"
    }
   ],
   "source": [
    "#Generate a consistent, random seed per day\n",
    "\n",
    "datedelta = date.today() - date(2019,5,31)\n",
    "seed = datedelta.days\n",
    "seed"
   ]
  },
  {
   "cell_type": "code",
   "execution_count": 8,
   "metadata": {},
   "outputs": [],
   "source": [
    "import random\n",
    "\n",
    "random.seed(seed)\n",
    "random.shuffle(word_list)"
   ]
  },
  {
   "cell_type": "code",
   "execution_count": 9,
   "metadata": {},
   "outputs": [
    {
     "name": "stdout",
     "output_type": "stream",
     "text": [
      "The first five words are temporise, sweatiest, plaintext, appeasing, mortgager.\n"
     ]
    }
   ],
   "source": [
    "print(\"The first five words are {}, {}, {}, {}, {}.\".format(word_list[0],word_list[1],word_list[2],word_list[3],word_list[4]))"
   ]
  },
  {
   "cell_type": "code",
   "execution_count": 10,
   "metadata": {},
   "outputs": [],
   "source": [
    "daily_word = word_list[5]"
   ]
  },
  {
   "cell_type": "code",
   "execution_count": 11,
   "metadata": {},
   "outputs": [],
   "source": [
    "#Create Individual Numbering System for placing letters on the board\n",
    "\n",
    "word_order = [0,1,2,3,4,5,6,7,8]\n",
    "random.seed(seed)\n",
    "random.shuffle(word_order)"
   ]
  },
  {
   "cell_type": "markdown",
   "metadata": {},
   "source": [
    "# Create a Jumble Word Board"
   ]
  },
  {
   "cell_type": "code",
   "execution_count": 12,
   "metadata": {},
   "outputs": [],
   "source": [
    "from IPython.display import clear_output\n",
    "\n",
    "def display_board(board):\n",
    "    clear_output()\n",
    "    print('  '+daily_word[word_order[0]]+'  '+daily_word[word_order[1]]+'  '+daily_word[word_order[2]]+'  ')\n",
    "    print('   '*3)\n",
    "    print('  '+daily_word[word_order[3]]+'  '+daily_word[word_order[4]]+'  '+daily_word[word_order[5]]+'  ')\n",
    "    print('   '*3)\n",
    "    print('  '+daily_word[word_order[6]]+'  '+daily_word[word_order[7]]+'  '+daily_word[word_order[8]]+'  ')"
   ]
  },
  {
   "cell_type": "code",
   "execution_count": 13,
   "metadata": {},
   "outputs": [],
   "source": [
    "import ipywidgets as widgets\n",
    "\n",
    "#Text Box for entering Jumble Word\n",
    "jumble_text = widgets.Text(\n",
    "    placeholder=\"Today's Jumble Word is...\",\n",
    "    description='Word:',\n",
    "    disabled=False\n",
    ")"
   ]
  },
  {
   "cell_type": "code",
   "execution_count": 14,
   "metadata": {},
   "outputs": [],
   "source": [
    "#Button to check whether today's word guess is correct\n",
    "\n",
    "button = widgets.Button(description=\"Check Word!\",icon=\"check\")\n",
    "def on_button_clicked(b):\n",
    "    if jumble_text.value.upper() == daily_word.upper():\n",
    "        print(\"You've got today's word!\")\n",
    "    else:\n",
    "        print(\"That's not today's word!\")\n",
    "button.on_click(on_button_clicked)"
   ]
  },
  {
   "cell_type": "code",
   "execution_count": 19,
   "metadata": {},
   "outputs": [
    {
     "name": "stdout",
     "output_type": "stream",
     "text": [
      "  n  e  t  \n",
      "         \n",
      "  e  d  a  \n",
      "         \n",
      "  e  v  r  \n"
     ]
    },
    {
     "data": {
      "application/vnd.jupyter.widget-view+json": {
       "model_id": "c9127ff100f64910bbfd0b4f0d2e7714",
       "version_major": 2,
       "version_minor": 0
      },
      "text/plain": [
       "Text(value='', description='Word:', placeholder=\"Today's Jumble Word is...\")"
      ]
     },
     "metadata": {},
     "output_type": "display_data"
    },
    {
     "data": {
      "application/vnd.jupyter.widget-view+json": {
       "model_id": "f862db0e498146848aa40a80443107cf",
       "version_major": 2,
       "version_minor": 0
      },
      "text/plain": [
       "Button(description='Check Word!', icon='check', style=ButtonStyle())"
      ]
     },
     "metadata": {},
     "output_type": "display_data"
    }
   ],
   "source": [
    "from ipywidgets.embed import embed_minimal_html\n",
    "\n",
    "display_board(daily_word)\n",
    "display(jumble_text)\n",
    "display(button)"
   ]
  },
  {
   "cell_type": "markdown",
   "metadata": {},
   "source": [
    "# Stuck on Today's Jumble Word?"
   ]
  },
  {
   "cell_type": "code",
   "execution_count": 16,
   "metadata": {},
   "outputs": [
    {
     "data": {
      "application/vnd.jupyter.widget-view+json": {
       "model_id": "a73ed126120f4039b5c406f822ad9708",
       "version_major": 2,
       "version_minor": 0
      },
      "text/plain": [
       "Button(description='I give up!', style=ButtonStyle())"
      ]
     },
     "metadata": {},
     "output_type": "display_data"
    }
   ],
   "source": [
    "cheat = widgets.Button(description=\"I give up!\")\n",
    "\n",
    "def cheat_clicked(b):\n",
    "    print(\"Today's word is {}\".format(daily_word))\n",
    "cheat.on_click(cheat_clicked)\n",
    "\n",
    "display(cheat)"
   ]
  },
  {
   "cell_type": "code",
   "execution_count": null,
   "metadata": {},
   "outputs": [],
   "source": []
  }
 ],
 "metadata": {
  "kernelspec": {
   "display_name": "Python 3",
   "language": "python",
   "name": "python3"
  },
  "language_info": {
   "codemirror_mode": {
    "name": "ipython",
    "version": 3
   },
   "file_extension": ".py",
   "mimetype": "text/x-python",
   "name": "python",
   "nbconvert_exporter": "python",
   "pygments_lexer": "ipython3",
   "version": "3.7.0"
  },
  "widgets": {
   "application/vnd.jupyter.widget-state+json": {
    "state": {
     "06f6f34ae4d546279e9a8ef84dce496a": {
      "model_module": "@jupyter-widgets/controls",
      "model_module_version": "1.4.0",
      "model_name": "ButtonStyleModel",
      "state": {}
     },
     "14c064e92e68441192371e1d6aafc4bb": {
      "model_module": "@jupyter-widgets/controls",
      "model_module_version": "1.4.0",
      "model_name": "ButtonStyleModel",
      "state": {}
     },
     "17df729b07e646458909078363c81d51": {
      "model_module": "@jupyter-widgets/controls",
      "model_module_version": "1.4.0",
      "model_name": "ButtonModel",
      "state": {
       "description": "I give up!",
       "layout": "IPY_MODEL_2f6ca5f2488e4bf7a47cd4f53b8cf646",
       "style": "IPY_MODEL_40ebccfa18704d1eaf99f90da8458f86"
      }
     },
     "26fab9a4854f41c581019c7cb83ffa60": {
      "model_module": "@jupyter-widgets/controls",
      "model_module_version": "1.4.0",
      "model_name": "TextModel",
      "state": {
       "description": "Word:",
       "layout": "IPY_MODEL_b306f5b4c448452f8cf1eb732c335af0",
       "placeholder": "Today's Jumble Word is...",
       "style": "IPY_MODEL_99ac8bc07d194c288e21c4c1cfb19778"
      }
     },
     "27d0ae3e82da49c6bbc97fb2fabadcdb": {
      "model_module": "@jupyter-widgets/controls",
      "model_module_version": "1.4.0",
      "model_name": "ButtonStyleModel",
      "state": {}
     },
     "29496f4af84b47f888e28b6cfbc3e154": {
      "model_module": "@jupyter-widgets/controls",
      "model_module_version": "1.4.0",
      "model_name": "DescriptionStyleModel",
      "state": {
       "description_width": ""
      }
     },
     "2ea89365ba8b4974a069c448f3f1f24c": {
      "model_module": "@jupyter-widgets/base",
      "model_module_version": "1.1.0",
      "model_name": "LayoutModel",
      "state": {}
     },
     "2f6ca5f2488e4bf7a47cd4f53b8cf646": {
      "model_module": "@jupyter-widgets/base",
      "model_module_version": "1.1.0",
      "model_name": "LayoutModel",
      "state": {}
     },
     "32b4b3b6f3824850850876090f9ab832": {
      "model_module": "@jupyter-widgets/base",
      "model_module_version": "1.1.0",
      "model_name": "LayoutModel",
      "state": {}
     },
     "3918c848cb3f49caaa8606b4f317054e": {
      "model_module": "@jupyter-widgets/base",
      "model_module_version": "1.1.0",
      "model_name": "LayoutModel",
      "state": {}
     },
     "3b984c06190e48ddbf2f0b7ecb63c851": {
      "model_module": "@jupyter-widgets/base",
      "model_module_version": "1.1.0",
      "model_name": "LayoutModel",
      "state": {}
     },
     "40ebccfa18704d1eaf99f90da8458f86": {
      "model_module": "@jupyter-widgets/controls",
      "model_module_version": "1.4.0",
      "model_name": "ButtonStyleModel",
      "state": {}
     },
     "458e50d55c384bceb5ee38e54c35d5f5": {
      "model_module": "@jupyter-widgets/base",
      "model_module_version": "1.1.0",
      "model_name": "LayoutModel",
      "state": {}
     },
     "5b13434de69448f38ddf9f11e2baea0f": {
      "model_module": "@jupyter-widgets/controls",
      "model_module_version": "1.4.0",
      "model_name": "ButtonModel",
      "state": {
       "description": "I give up!",
       "layout": "IPY_MODEL_9e3b8c89b45c4ac3ae7648b08507f5d2",
       "style": "IPY_MODEL_b3ebdabc762e4d1088d9ad93c6c9782e"
      }
     },
     "6cc80bad86bb46fbba810971349956ea": {
      "model_module": "@jupyter-widgets/base",
      "model_module_version": "1.1.0",
      "model_name": "LayoutModel",
      "state": {}
     },
     "78556a0b2d9d47aba66964ef15e1a176": {
      "model_module": "@jupyter-widgets/controls",
      "model_module_version": "1.4.0",
      "model_name": "ButtonModel",
      "state": {
       "description": "Check Word!",
       "icon": "check",
       "layout": "IPY_MODEL_6cc80bad86bb46fbba810971349956ea",
       "style": "IPY_MODEL_8b46d4365f224c3e8123eee4648fc20c"
      }
     },
     "79dbe2066d6c4ed5a0c53326204bc70f": {
      "model_module": "@jupyter-widgets/base",
      "model_module_version": "1.1.0",
      "model_name": "LayoutModel",
      "state": {}
     },
     "7a17d3566dae48ef8243135a84e359a1": {
      "model_module": "@jupyter-widgets/controls",
      "model_module_version": "1.4.0",
      "model_name": "ButtonModel",
      "state": {
       "description": "Check Word!",
       "icon": "check",
       "layout": "IPY_MODEL_ba24b5568c64459eaf90ca71a8199109",
       "style": "IPY_MODEL_da3ad8779a374cf9891f718aa26fbf0b"
      }
     },
     "7d29e25e8fb9464f9f24107eaad9a2b1": {
      "model_module": "@jupyter-widgets/controls",
      "model_module_version": "1.4.0",
      "model_name": "ButtonStyleModel",
      "state": {}
     },
     "82935ee85e4d476eb4da20ea1c5f27c1": {
      "model_module": "@jupyter-widgets/controls",
      "model_module_version": "1.4.0",
      "model_name": "ButtonModel",
      "state": {
       "description": "I give up!",
       "layout": "IPY_MODEL_3918c848cb3f49caaa8606b4f317054e",
       "style": "IPY_MODEL_14c064e92e68441192371e1d6aafc4bb"
      }
     },
     "8b46d4365f224c3e8123eee4648fc20c": {
      "model_module": "@jupyter-widgets/controls",
      "model_module_version": "1.4.0",
      "model_name": "ButtonStyleModel",
      "state": {}
     },
     "99ac8bc07d194c288e21c4c1cfb19778": {
      "model_module": "@jupyter-widgets/controls",
      "model_module_version": "1.4.0",
      "model_name": "DescriptionStyleModel",
      "state": {
       "description_width": ""
      }
     },
     "9e3b8c89b45c4ac3ae7648b08507f5d2": {
      "model_module": "@jupyter-widgets/base",
      "model_module_version": "1.1.0",
      "model_name": "LayoutModel",
      "state": {}
     },
     "a159cd642f364902ab196550ca08bd4a": {
      "model_module": "@jupyter-widgets/controls",
      "model_module_version": "1.4.0",
      "model_name": "DescriptionStyleModel",
      "state": {
       "description_width": ""
      }
     },
     "a73ed126120f4039b5c406f822ad9708": {
      "model_module": "@jupyter-widgets/controls",
      "model_module_version": "1.4.0",
      "model_name": "ButtonModel",
      "state": {
       "description": "I give up!",
       "layout": "IPY_MODEL_79dbe2066d6c4ed5a0c53326204bc70f",
       "style": "IPY_MODEL_27d0ae3e82da49c6bbc97fb2fabadcdb"
      }
     },
     "b306f5b4c448452f8cf1eb732c335af0": {
      "model_module": "@jupyter-widgets/base",
      "model_module_version": "1.1.0",
      "model_name": "LayoutModel",
      "state": {}
     },
     "b3c161bf092f4de6a1ac0ae58e318cf0": {
      "model_module": "@jupyter-widgets/controls",
      "model_module_version": "1.4.0",
      "model_name": "TextModel",
      "state": {
       "description": "Word:",
       "layout": "IPY_MODEL_2ea89365ba8b4974a069c448f3f1f24c",
       "placeholder": "Today's Jumble Word is...",
       "style": "IPY_MODEL_a159cd642f364902ab196550ca08bd4a"
      }
     },
     "b3ebdabc762e4d1088d9ad93c6c9782e": {
      "model_module": "@jupyter-widgets/controls",
      "model_module_version": "1.4.0",
      "model_name": "ButtonStyleModel",
      "state": {}
     },
     "ba24b5568c64459eaf90ca71a8199109": {
      "model_module": "@jupyter-widgets/base",
      "model_module_version": "1.1.0",
      "model_name": "LayoutModel",
      "state": {}
     },
     "c9127ff100f64910bbfd0b4f0d2e7714": {
      "model_module": "@jupyter-widgets/controls",
      "model_module_version": "1.4.0",
      "model_name": "TextModel",
      "state": {
       "description": "Word:",
       "layout": "IPY_MODEL_fea027333f564827b1fd91c930e51d72",
       "placeholder": "Today's Jumble Word is...",
       "style": "IPY_MODEL_29496f4af84b47f888e28b6cfbc3e154"
      }
     },
     "cddbdca72f23481e80455ae15cb39599": {
      "model_module": "@jupyter-widgets/controls",
      "model_module_version": "1.4.0",
      "model_name": "DescriptionStyleModel",
      "state": {
       "description_width": ""
      }
     },
     "da3ad8779a374cf9891f718aa26fbf0b": {
      "model_module": "@jupyter-widgets/controls",
      "model_module_version": "1.4.0",
      "model_name": "ButtonStyleModel",
      "state": {}
     },
     "f32d7ee29d9241e3bacd0bbb0f865427": {
      "model_module": "@jupyter-widgets/controls",
      "model_module_version": "1.4.0",
      "model_name": "ButtonModel",
      "state": {
       "description": "Check Word!",
       "icon": "check",
       "layout": "IPY_MODEL_32b4b3b6f3824850850876090f9ab832",
       "style": "IPY_MODEL_7d29e25e8fb9464f9f24107eaad9a2b1"
      }
     },
     "f756bae6dc9947b58063fc03e587edce": {
      "model_module": "@jupyter-widgets/controls",
      "model_module_version": "1.4.0",
      "model_name": "TextModel",
      "state": {
       "description": "Word:",
       "layout": "IPY_MODEL_3b984c06190e48ddbf2f0b7ecb63c851",
       "placeholder": "Today's Jumble Word is...",
       "style": "IPY_MODEL_cddbdca72f23481e80455ae15cb39599",
       "value": "enervated"
      }
     },
     "f862db0e498146848aa40a80443107cf": {
      "model_module": "@jupyter-widgets/controls",
      "model_module_version": "1.4.0",
      "model_name": "ButtonModel",
      "state": {
       "description": "Check Word!",
       "icon": "check",
       "layout": "IPY_MODEL_458e50d55c384bceb5ee38e54c35d5f5",
       "style": "IPY_MODEL_06f6f34ae4d546279e9a8ef84dce496a"
      }
     },
     "fea027333f564827b1fd91c930e51d72": {
      "model_module": "@jupyter-widgets/base",
      "model_module_version": "1.1.0",
      "model_name": "LayoutModel",
      "state": {}
     }
    },
    "version_major": 2,
    "version_minor": 0
   }
  }
 },
 "nbformat": 4,
 "nbformat_minor": 2
}
